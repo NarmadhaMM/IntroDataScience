{
  "nbformat": 4,
  "nbformat_minor": 0,
  "metadata": {
    "colab": {
      "name": "FFNN.ipynb",
      "provenance": [],
      "authorship_tag": "ABX9TyO+HUvkcmTRUSWVUZ+IphPy",
      "include_colab_link": true
    },
    "kernelspec": {
      "name": "python3",
      "display_name": "Python 3"
    }
  },
  "cells": [
    {
      "cell_type": "markdown",
      "metadata": {
        "id": "view-in-github",
        "colab_type": "text"
      },
      "source": [
        "<a href=\"https://colab.research.google.com/github/happyrabbit/IntroDataScience/blob/master/Python/FFNN.ipynb\" target=\"_parent\"><img src=\"https://colab.research.google.com/assets/colab-badge.svg\" alt=\"Open In Colab\"/></a>"
      ]
    },
    {
      "cell_type": "code",
      "metadata": {
        "id": "oRSNzohQVxVA",
        "colab_type": "code",
        "colab": {}
      },
      "source": [
        "from tensorflow.keras.utils import to_categorical\n",
        "from tensorflow.keras.datasets import mnist\n",
        "from tensorflow.keras.models import Sequential\n",
        "from tensorflow.keras.layers import Dense, Flatten, Dropout\n",
        "import matplotlib.pyplot as plt"
      ],
      "execution_count": 0,
      "outputs": []
    },
    {
      "cell_type": "code",
      "metadata": {
        "id": "CzY3nNVzXWFR",
        "colab_type": "code",
        "colab": {}
      },
      "source": [
        "(X_train, y_train), (X_test, y_test) = mnist.load_data()\n",
        "\n",
        "img_width = X_train.shape[1]\n",
        "img_height = X_train.shape[2]\n",
        "\n",
        "# one hot encode outputs\n",
        "y_train = to_categorical(y_train)\n",
        "y_test = to_categorical(y_test)\n",
        "\n",
        "num_classes = y_train.shape[1]"
      ],
      "execution_count": 0,
      "outputs": []
    },
    {
      "cell_type": "code",
      "metadata": {
        "id": "oyyhCHKiYAUR",
        "colab_type": "code",
        "outputId": "c84588b2-91ea-43d0-b03b-d57320e6ae50",
        "colab": {
          "base_uri": "https://localhost:8080/",
          "height": 248
        }
      },
      "source": [
        "offset = 15\n",
        "for i in range(9):\n",
        "    plt.subplot(3,3,i+1)\n",
        "    plt.imshow(X_train[i+offset], cmap='gray', interpolation='none')\n",
        "    plt.axis('off')"
      ],
      "execution_count": 0,
      "outputs": [
        {
          "output_type": "display_data",
          "data": {
            "image/png": "[encoded data removed]",
            "text/plain": [
              "<Figure size 432x288 with 9 Axes>"
            ]
          },
          "metadata": {
            "tags": []
          }
        }
      ]
    },
    {
      "cell_type": "markdown",
      "metadata": {
        "id": "Chmy4MTTWHAr",
        "colab_type": "text"
      },
      "source": [
        "## Without rescaling"
      ]
    },
    {
      "cell_type": "code",
      "metadata": {
        "id": "d2zQCnsfWJQE",
        "colab_type": "code",
        "outputId": "d12ad7ae-0ede-4c8b-b20f-a22d9cee06da",
        "colab": {
          "base_uri": "https://localhost:8080/",
          "height": 462
        }
      },
      "source": [
        "# create model\n",
        "model = Sequential()\n",
        "model.add(Flatten(input_shape=(img_width, img_height)))\n",
        "model.add(Dense(num_classes, activation=\"softmax\"))\n",
        "model.compile(loss='categorical_crossentropy', optimizer='adam',\n",
        "              metrics=['accuracy'])\n",
        "\n",
        "# Fit the model\n",
        "model.fit(X_train, y_train, epochs=10, validation_data=(X_test, y_test))"
      ],
      "execution_count": 0,
      "outputs": [
        {
          "output_type": "stream",
          "text": [
            "WARNING:tensorflow:From /usr/local/lib/python3.6/dist-packages/tensorflow_core/python/ops/resource_variable_ops.py:1630: calling BaseResourceVariable.__init__ (from tensorflow.python.ops.resource_variable_ops) with constraint is deprecated and will be removed in a future version.\n",
            "Instructions for updating:\n",
            "If using Keras pass *_constraint arguments to layers.\n",
            "Train on 60000 samples, validate on 10000 samples\n",
            "Epoch 1/10\n",
            "60000/60000 [==============================] - 3s 54us/sample - loss: 9.8117 - acc: 0.8390 - val_loss: 7.0638 - val_acc: 0.8690\n",
            "Epoch 2/10\n",
            "60000/60000 [==============================] - 3s 48us/sample - loss: 6.1600 - acc: 0.8786 - val_loss: 5.5009 - val_acc: 0.8951\n",
            "Epoch 3/10\n",
            "60000/60000 [==============================] - 3s 47us/sample - loss: 5.7405 - acc: 0.8830 - val_loss: 5.8994 - val_acc: 0.8864\n",
            "Epoch 4/10\n",
            "60000/60000 [==============================] - 3s 48us/sample - loss: 5.5878 - acc: 0.8850 - val_loss: 5.6021 - val_acc: 0.8930\n",
            "Epoch 5/10\n",
            "60000/60000 [==============================] - 3s 45us/sample - loss: 5.4412 - acc: 0.8866 - val_loss: 5.8617 - val_acc: 0.8769\n",
            "Epoch 6/10\n",
            "60000/60000 [==============================] - 3s 47us/sample - loss: 5.4210 - acc: 0.8852 - val_loss: 6.5473 - val_acc: 0.8771\n",
            "Epoch 7/10\n",
            "60000/60000 [==============================] - 3s 50us/sample - loss: 5.2593 - acc: 0.8884 - val_loss: 6.8006 - val_acc: 0.8762\n",
            "Epoch 8/10\n",
            "60000/60000 [==============================] - 3s 48us/sample - loss: 5.3123 - acc: 0.8895 - val_loss: 6.5171 - val_acc: 0.8796\n",
            "Epoch 9/10\n",
            "60000/60000 [==============================] - 3s 49us/sample - loss: 5.1450 - acc: 0.8899 - val_loss: 6.7022 - val_acc: 0.8727\n",
            "Epoch 10/10\n",
            "60000/60000 [==============================] - 3s 49us/sample - loss: 5.2267 - acc: 0.8888 - val_loss: 5.4776 - val_acc: 0.8976\n"
          ],
          "name": "stdout"
        },
        {
          "output_type": "execute_result",
          "data": {
            "text/plain": [
              "<tensorflow.python.keras.callbacks.History at 0x7f153aaa7dd8>"
            ]
          },
          "metadata": {
            "tags": []
          },
          "execution_count": 2
        }
      ]
    },
    {
      "cell_type": "markdown",
      "metadata": {
        "id": "QaUOYQBJWVTZ",
        "colab_type": "text"
      },
      "source": [
        "## With rescaling"
      ]
    },
    {
      "cell_type": "code",
      "metadata": {
        "id": "fDTiDnyoWTGT",
        "colab_type": "code",
        "outputId": "33a9903b-ae56-4a59-b700-cdd9d481c4b0",
        "colab": {
          "base_uri": "https://localhost:8080/",
          "height": 391
        }
      },
      "source": [
        "X_train = X_train / 255.\n",
        "X_test = X_test / 255.\n",
        "\n",
        "# create model\n",
        "model = Sequential()\n",
        "model.add(Flatten(input_shape=(img_width, img_height)))\n",
        "model.add(Dense(num_classes, activation=\"softmax\"))\n",
        "model.compile(loss='categorical_crossentropy', optimizer='adam',\n",
        "              metrics=['accuracy'])\n",
        "\n",
        "# Fit the model\n",
        "model.fit(X_train, y_train, epochs=10, validation_data=(X_test, y_test))"
      ],
      "execution_count": 0,
      "outputs": [
        {
          "output_type": "stream",
          "text": [
            "Train on 60000 samples, validate on 10000 samples\n",
            "Epoch 1/10\n",
            "60000/60000 [==============================] - 3s 51us/sample - loss: 0.4673 - acc: 0.8776 - val_loss: 0.3090 - val_acc: 0.9137\n",
            "Epoch 2/10\n",
            "60000/60000 [==============================] - 3s 50us/sample - loss: 0.3042 - acc: 0.9145 - val_loss: 0.2799 - val_acc: 0.9209\n",
            "Epoch 3/10\n",
            "60000/60000 [==============================] - 3s 49us/sample - loss: 0.2836 - acc: 0.9211 - val_loss: 0.2734 - val_acc: 0.9251\n",
            "Epoch 4/10\n",
            "60000/60000 [==============================] - 3s 51us/sample - loss: 0.2728 - acc: 0.9241 - val_loss: 0.2711 - val_acc: 0.9249\n",
            "Epoch 5/10\n",
            "60000/60000 [==============================] - 3s 50us/sample - loss: 0.2666 - acc: 0.9256 - val_loss: 0.2681 - val_acc: 0.9247\n",
            "Epoch 6/10\n",
            "60000/60000 [==============================] - 3s 56us/sample - loss: 0.2621 - acc: 0.9273 - val_loss: 0.2677 - val_acc: 0.9248\n",
            "Epoch 7/10\n",
            "60000/60000 [==============================] - 3s 50us/sample - loss: 0.2583 - acc: 0.9290 - val_loss: 0.2655 - val_acc: 0.9263\n",
            "Epoch 8/10\n",
            "60000/60000 [==============================] - 3s 51us/sample - loss: 0.2550 - acc: 0.9297 - val_loss: 0.2641 - val_acc: 0.9268\n",
            "Epoch 9/10\n",
            "60000/60000 [==============================] - 3s 48us/sample - loss: 0.2533 - acc: 0.9299 - val_loss: 0.2627 - val_acc: 0.9260\n",
            "Epoch 10/10\n",
            "60000/60000 [==============================] - 3s 51us/sample - loss: 0.2513 - acc: 0.9309 - val_loss: 0.2624 - val_acc: 0.9274\n"
          ],
          "name": "stdout"
        },
        {
          "output_type": "execute_result",
          "data": {
            "text/plain": [
              "<tensorflow.python.keras.callbacks.History at 0x7f1538f6d048>"
            ]
          },
          "metadata": {
            "tags": []
          },
          "execution_count": 3
        }
      ]
    },
    {
      "cell_type": "markdown",
      "metadata": {
        "id": "VWAvxDkfabVH",
        "colab_type": "text"
      },
      "source": [
        "## Add more layers"
      ]
    },
    {
      "cell_type": "code",
      "metadata": {
        "id": "z6h4u-eAWfRA",
        "colab_type": "code",
        "outputId": "a74116ad-eaed-4ded-b399-9ade04b2d8d8",
        "colab": {
          "base_uri": "https://localhost:8080/",
          "height": 391
        }
      },
      "source": [
        "# create model\n",
        "model = Sequential()\n",
        "model.add(Flatten(input_shape=(img_width, img_height)))\n",
        "model.add(Dense(256, activation=\"relu\"))\n",
        "model.add(Dropout(0.4))\n",
        "model.add(Dense(128, activation=\"relu\"))\n",
        "model.add(Dropout(0.3))\n",
        "model.add(Dense(64, activation=\"relu\"))\n",
        "model.add(Dropout(0.3))\n",
        "model.add(Dense(num_classes, activation=\"softmax\"))\n",
        "\n",
        "model.compile(loss='categorical_crossentropy', optimizer='adam',\n",
        "              metrics=['accuracy'])\n",
        "\n",
        "# Fit the model\n",
        "model.fit(X_train, y_train, epochs=10, validation_data=(X_test, y_test))"
      ],
      "execution_count": 0,
      "outputs": [
        {
          "output_type": "stream",
          "text": [
            "Train on 60000 samples, validate on 10000 samples\n",
            "Epoch 1/10\n",
            "60000/60000 [==============================] - 10s 162us/sample - loss: 0.4073 - acc: 0.8783 - val_loss: 0.1446 - val_acc: 0.9575\n",
            "Epoch 2/10\n",
            "60000/60000 [==============================] - 9s 158us/sample - loss: 0.2066 - acc: 0.9431 - val_loss: 0.1091 - val_acc: 0.9698\n",
            "Epoch 3/10\n",
            "60000/60000 [==============================] - 10s 167us/sample - loss: 0.1658 - acc: 0.9542 - val_loss: 0.0934 - val_acc: 0.9731\n",
            "Epoch 4/10\n",
            "60000/60000 [==============================] - 9s 157us/sample - loss: 0.1464 - acc: 0.9589 - val_loss: 0.0819 - val_acc: 0.9747\n",
            "Epoch 5/10\n",
            "60000/60000 [==============================] - 9s 157us/sample - loss: 0.1267 - acc: 0.9635 - val_loss: 0.0778 - val_acc: 0.9777\n",
            "Epoch 6/10\n",
            "60000/60000 [==============================] - 9s 150us/sample - loss: 0.1207 - acc: 0.9657 - val_loss: 0.0763 - val_acc: 0.9773\n",
            "Epoch 7/10\n",
            "60000/60000 [==============================] - 9s 153us/sample - loss: 0.1077 - acc: 0.9693 - val_loss: 0.0709 - val_acc: 0.9796\n",
            "Epoch 8/10\n",
            "60000/60000 [==============================] - 9s 148us/sample - loss: 0.1008 - acc: 0.9712 - val_loss: 0.0722 - val_acc: 0.9792\n",
            "Epoch 9/10\n",
            "60000/60000 [==============================] - 9s 156us/sample - loss: 0.0982 - acc: 0.9712 - val_loss: 0.0694 - val_acc: 0.9812\n",
            "Epoch 10/10\n",
            "60000/60000 [==============================] - 9s 152us/sample - loss: 0.0915 - acc: 0.9737 - val_loss: 0.0748 - val_acc: 0.9794\n"
          ],
          "name": "stdout"
        },
        {
          "output_type": "execute_result",
          "data": {
            "text/plain": [
              "<tensorflow.python.keras.callbacks.History at 0x7f1525675f28>"
            ]
          },
          "metadata": {
            "tags": []
          },
          "execution_count": 27
        }
      ]
    },
    {
      "cell_type": "code",
      "metadata": {
        "id": "45ycThGwbawU",
        "colab_type": "code",
        "colab": {}
      },
      "source": [
        ""
      ],
      "execution_count": 0,
      "outputs": []
    }
  ]
}