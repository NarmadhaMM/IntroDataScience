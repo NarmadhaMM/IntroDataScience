{
  "nbformat": 4,
  "nbformat_minor": 0,
  "metadata": {
    "colab": {
      "name": "CNN.ipynb",
      "provenance": [],
      "toc_visible": true,
      "authorship_tag": "ABX9TyO++eyBlIEpsPyrHOjbdjAf",
      "include_colab_link": true
    },
    "kernelspec": {
      "name": "python3",
      "display_name": "Python 3"
    }
  },
  "cells": [
    {
      "cell_type": "markdown",
      "metadata": {
        "id": "view-in-github",
        "colab_type": "text"
      },
      "source": [
        "<a href=\"https://colab.research.google.com/github/happyrabbit/IntroDataScience/blob/master/Python/CNN.ipynb\" target=\"_parent\"><img src=\"https://colab.research.google.com/assets/colab-badge.svg\" alt=\"Open In Colab\"/></a>"
      ]
    },
    {
      "cell_type": "markdown",
      "metadata": {
        "id": "JyXYZMDEGDd4",
        "colab_type": "text"
      },
      "source": [
        "# Packages Download and Installation"
      ]
    },
    {
      "cell_type": "code",
      "metadata": {
        "id": "XYaZ57tvs61q",
        "colab_type": "code",
        "colab": {}
      },
      "source": [
        "from tensorflow.keras.utils import to_categorical\n",
        "from tensorflow.keras.datasets import mnist\n",
        "from tensorflow.keras.models import Sequential\n",
        "from tensorflow.keras.layers import Dense, Flatten, Conv2D, MaxPooling2D, Reshape, Dropout"
      ],
      "execution_count": 0,
      "outputs": []
    },
    {
      "cell_type": "markdown",
      "metadata": {
        "id": "wGRjELhxay7s",
        "colab_type": "text"
      },
      "source": [
        "# Data Preprocessing"
      ]
    },
    {
      "cell_type": "code",
      "metadata": {
        "id": "Qp6ti3SzF5Oh",
        "colab_type": "code",
        "colab": {}
      },
      "source": [
        "# load data\n",
        "(X_train, y_train), (X_test, y_test) = mnist.load_data()\n",
        "\n",
        "# one hot encode outputs\n",
        "y_train = to_categorical(y_train)\n",
        "y_test = to_categorical(y_test)\n",
        "\n",
        "X_train = X_train.astype('float32')\n",
        "X_train /= 255.\n",
        "X_test = X_test.astype('float32')\n",
        "X_test /= 255.\n",
        "\n",
        "# Input image dimensions\n",
        "img_width = X_train.shape[1]\n",
        "img_height = X_train.shape[2]\n",
        "\n",
        "# reshape input data\n",
        "X_train = X_train.reshape( X_train.shape[0], img_width, img_height, 1)\n",
        "X_test = X_test.reshape( X_test.shape[0], img_width, img_height, 1)"
      ],
      "execution_count": 0,
      "outputs": []
    },
    {
      "cell_type": "code",
      "metadata": {
        "id": "bIvDnCmSHTdg",
        "colab_type": "code",
        "colab": {}
      },
      "source": [
        "# Define a few parameters to be used in the CNN model\n",
        "batch_size = 128\n",
        "num_classes = y_train.shape[1]\n",
        "dense_layer_size = 128"
      ],
      "execution_count": 0,
      "outputs": []
    },
    {
      "cell_type": "code",
      "metadata": {
        "id": "HBNQjDXvHJNz",
        "colab_type": "code",
        "outputId": "90f6b4d4-7a77-41bc-d176-7a5667029112",
        "colab": {
          "base_uri": "https://localhost:8080/",
          "height": 394
        }
      },
      "source": [
        "# build model\n",
        "model = Sequential()\n",
        "\n",
        "model.add(Conv2D(32,\n",
        "                 # kernal size\n",
        "                 (3, 3),\n",
        "                 input_shape=(img_width, img_height, 1),\n",
        "                 activation='relu'))\n",
        "\n",
        "model.add(MaxPooling2D(pool_size=(2, 2)))\n",
        "\n",
        "model.add(Conv2D(64,\n",
        "                 # kernal size\n",
        "                 (3, 3),\n",
        "                 activation='relu'))\n",
        "\n",
        "model.add(Dropout(0.25))\n",
        "model.add(Flatten())\n",
        "model.add(Dense(128, activation='relu'))\n",
        "model.add(Dropout(0.5))\n",
        "model.add(Dense(num_classes, activation='softmax'))\n",
        "\n",
        "\n",
        "model.compile(loss='categorical_crossentropy', optimizer='adam', metrics=['accuracy'])\n",
        "model.fit(X_train, y_train, validation_data=(X_test, y_test), epochs = 10)"
      ],
      "execution_count": 0,
      "outputs": [
        {
          "output_type": "stream",
          "text": [
            "Epoch 1/10\n",
            "1875/1875 [==============================] - 65s 35ms/step - loss: 0.1801 - accuracy: 0.9463 - val_loss: 0.0389 - val_accuracy: 0.9867\n",
            "Epoch 2/10\n",
            "1875/1875 [==============================] - 65s 35ms/step - loss: 0.0728 - accuracy: 0.9787 - val_loss: 0.0347 - val_accuracy: 0.9885\n",
            "Epoch 3/10\n",
            "1875/1875 [==============================] - 65s 35ms/step - loss: 0.0509 - accuracy: 0.9847 - val_loss: 0.0359 - val_accuracy: 0.9877\n",
            "Epoch 4/10\n",
            "1875/1875 [==============================] - 64s 34ms/step - loss: 0.0424 - accuracy: 0.9871 - val_loss: 0.0261 - val_accuracy: 0.9915\n",
            "Epoch 5/10\n",
            "1875/1875 [==============================] - 64s 34ms/step - loss: 0.0368 - accuracy: 0.9888 - val_loss: 0.0256 - val_accuracy: 0.9914\n",
            "Epoch 6/10\n",
            "1875/1875 [==============================] - 64s 34ms/step - loss: 0.0325 - accuracy: 0.9895 - val_loss: 0.0236 - val_accuracy: 0.9932\n",
            "Epoch 7/10\n",
            "1875/1875 [==============================] - 64s 34ms/step - loss: 0.0291 - accuracy: 0.9908 - val_loss: 0.0270 - val_accuracy: 0.9911\n",
            "Epoch 8/10\n",
            "1875/1875 [==============================] - 64s 34ms/step - loss: 0.0239 - accuracy: 0.9930 - val_loss: 0.0271 - val_accuracy: 0.9925\n",
            "Epoch 9/10\n",
            "1875/1875 [==============================] - 64s 34ms/step - loss: 0.0227 - accuracy: 0.9929 - val_loss: 0.0267 - val_accuracy: 0.9933\n",
            "Epoch 10/10\n",
            "1875/1875 [==============================] - 64s 34ms/step - loss: 0.0195 - accuracy: 0.9938 - val_loss: 0.0254 - val_accuracy: 0.9932\n"
          ],
          "name": "stdout"
        },
        {
          "output_type": "execute_result",
          "data": {
            "text/plain": [
              "<tensorflow.python.keras.callbacks.History at 0x7fce744f21d0>"
            ]
          },
          "metadata": {
            "tags": []
          },
          "execution_count": 18
        }
      ]
    },
    {
      "cell_type": "code",
      "metadata": {
        "id": "qBcQkIX-H5y4",
        "colab_type": "code",
        "colab": {}
      },
      "source": [
        ""
      ],
      "execution_count": 0,
      "outputs": []
    }
  ]
}